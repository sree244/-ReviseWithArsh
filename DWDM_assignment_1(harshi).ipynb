{
  "cells": [
    {
      "cell_type": "markdown",
      "metadata": {
        "id": "view-in-github",
        "colab_type": "text"
      },
      "source": [
        "<a href=\"https://colab.research.google.com/github/sree244/-ReviseWithArsh/blob/main/DWDM_assignment_1(harshi).ipynb\" target=\"_parent\"><img src=\"https://colab.research.google.com/assets/colab-badge.svg\" alt=\"Open In Colab\"/></a>"
      ]
    },
    {
      "cell_type": "markdown",
      "id": "fff8ac82-accb-44c6-83eb-9396ba020e8e",
      "metadata": {
        "id": "fff8ac82-accb-44c6-83eb-9396ba020e8e"
      },
      "source": [
        "## DWDM Assignment\n",
        "## Sree Harshini.V\n",
        "## 22BCE20284"
      ]
    },
    {
      "cell_type": "markdown",
      "id": "bd7a11dc-e5f8-46a2-aec9-115dd875c931",
      "metadata": {
        "id": "bd7a11dc-e5f8-46a2-aec9-115dd875c931"
      },
      "source": [
        "### The Titanic dataset is a collection of real-world data from the passengers aboard the RMS Titanic, which sank after hitting an iceberg on its maiden voyage on April 15, 1912. The dataset is commonly used for machine learning classification tasks where the goal is to predict whether a passenger survived the disaster based on various attributes such as age, gender, class, and fare."
      ]
    },
    {
      "cell_type": "markdown",
      "id": "44e1be5b-5d2e-4027-b76d-7407b78f6bb8",
      "metadata": {
        "id": "44e1be5b-5d2e-4027-b76d-7407b78f6bb8"
      },
      "source": [
        "### Importing necessary libraries"
      ]
    },
    {
      "cell_type": "code",
      "execution_count": null,
      "id": "23f5274b-180a-41d3-9e3e-a5489e7a51f0",
      "metadata": {
        "id": "23f5274b-180a-41d3-9e3e-a5489e7a51f0"
      },
      "outputs": [],
      "source": [
        "import numpy as np\n",
        "import pandas as pd\n",
        "import matplotlib.pyplot as plt\n",
        "import seaborn as sns"
      ]
    },
    {
      "cell_type": "markdown",
      "id": "1c6336e6-517c-4a47-843f-56ec4612a6f9",
      "metadata": {
        "id": "1c6336e6-517c-4a47-843f-56ec4612a6f9"
      },
      "source": [
        "### Reading dataset"
      ]
    },
    {
      "cell_type": "code",
      "execution_count": null,
      "id": "b333383b-1176-4343-8eed-b9ef808120ac",
      "metadata": {
        "id": "b333383b-1176-4343-8eed-b9ef808120ac"
      },
      "outputs": [],
      "source": [
        "data=pd.read_csv('titanic.csv')"
      ]
    },
    {
      "cell_type": "markdown",
      "id": "551f7028-f8dc-4e70-9517-885e5fe5d0e5",
      "metadata": {
        "id": "551f7028-f8dc-4e70-9517-885e5fe5d0e5"
      },
      "source": [
        "### Viewing data and different features"
      ]
    },
    {
      "cell_type": "code",
      "execution_count": null,
      "id": "5d59abdf-b3e6-45ac-bd43-75e92234b915",
      "metadata": {
        "id": "5d59abdf-b3e6-45ac-bd43-75e92234b915",
        "outputId": "8f288315-1112-46ab-b9af-19ed4480af11"
      },
      "outputs": [
        {
          "data": {
            "text/html": [
              "<div>\n",
              "<style scoped>\n",
              "    .dataframe tbody tr th:only-of-type {\n",
              "        vertical-align: middle;\n",
              "    }\n",
              "\n",
              "    .dataframe tbody tr th {\n",
              "        vertical-align: top;\n",
              "    }\n",
              "\n",
              "    .dataframe thead th {\n",
              "        text-align: right;\n",
              "    }\n",
              "</style>\n",
              "<table border=\"1\" class=\"dataframe\">\n",
              "  <thead>\n",
              "    <tr style=\"text-align: right;\">\n",
              "      <th></th>\n",
              "      <th>PassengerId</th>\n",
              "      <th>Survived</th>\n",
              "      <th>Pclass</th>\n",
              "      <th>Name</th>\n",
              "      <th>Sex</th>\n",
              "      <th>Age</th>\n",
              "      <th>SibSp</th>\n",
              "      <th>Parch</th>\n",
              "      <th>Ticket</th>\n",
              "      <th>Fare</th>\n",
              "      <th>Cabin</th>\n",
              "      <th>Embarked</th>\n",
              "    </tr>\n",
              "  </thead>\n",
              "  <tbody>\n",
              "    <tr>\n",
              "      <th>0</th>\n",
              "      <td>1</td>\n",
              "      <td>0</td>\n",
              "      <td>3</td>\n",
              "      <td>Braund, Mr. Owen Harris</td>\n",
              "      <td>male</td>\n",
              "      <td>22.0</td>\n",
              "      <td>1</td>\n",
              "      <td>0</td>\n",
              "      <td>A/5 21171</td>\n",
              "      <td>7.2500</td>\n",
              "      <td>NaN</td>\n",
              "      <td>S</td>\n",
              "    </tr>\n",
              "    <tr>\n",
              "      <th>1</th>\n",
              "      <td>2</td>\n",
              "      <td>1</td>\n",
              "      <td>1</td>\n",
              "      <td>Cumings, Mrs. John Bradley (Florence Briggs Th...</td>\n",
              "      <td>female</td>\n",
              "      <td>38.0</td>\n",
              "      <td>1</td>\n",
              "      <td>0</td>\n",
              "      <td>PC 17599</td>\n",
              "      <td>71.2833</td>\n",
              "      <td>C85</td>\n",
              "      <td>C</td>\n",
              "    </tr>\n",
              "    <tr>\n",
              "      <th>2</th>\n",
              "      <td>3</td>\n",
              "      <td>1</td>\n",
              "      <td>3</td>\n",
              "      <td>Heikkinen, Miss. Laina</td>\n",
              "      <td>female</td>\n",
              "      <td>26.0</td>\n",
              "      <td>0</td>\n",
              "      <td>0</td>\n",
              "      <td>STON/O2. 3101282</td>\n",
              "      <td>7.9250</td>\n",
              "      <td>NaN</td>\n",
              "      <td>S</td>\n",
              "    </tr>\n",
              "    <tr>\n",
              "      <th>3</th>\n",
              "      <td>4</td>\n",
              "      <td>1</td>\n",
              "      <td>1</td>\n",
              "      <td>Futrelle, Mrs. Jacques Heath (Lily May Peel)</td>\n",
              "      <td>female</td>\n",
              "      <td>35.0</td>\n",
              "      <td>1</td>\n",
              "      <td>0</td>\n",
              "      <td>113803</td>\n",
              "      <td>53.1000</td>\n",
              "      <td>C123</td>\n",
              "      <td>S</td>\n",
              "    </tr>\n",
              "    <tr>\n",
              "      <th>4</th>\n",
              "      <td>5</td>\n",
              "      <td>0</td>\n",
              "      <td>3</td>\n",
              "      <td>Allen, Mr. William Henry</td>\n",
              "      <td>male</td>\n",
              "      <td>35.0</td>\n",
              "      <td>0</td>\n",
              "      <td>0</td>\n",
              "      <td>373450</td>\n",
              "      <td>8.0500</td>\n",
              "      <td>NaN</td>\n",
              "      <td>S</td>\n",
              "    </tr>\n",
              "  </tbody>\n",
              "</table>\n",
              "</div>"
            ],
            "text/plain": [
              "   PassengerId  Survived  Pclass  \\\n",
              "0            1         0       3   \n",
              "1            2         1       1   \n",
              "2            3         1       3   \n",
              "3            4         1       1   \n",
              "4            5         0       3   \n",
              "\n",
              "                                                Name     Sex   Age  SibSp  \\\n",
              "0                            Braund, Mr. Owen Harris    male  22.0      1   \n",
              "1  Cumings, Mrs. John Bradley (Florence Briggs Th...  female  38.0      1   \n",
              "2                             Heikkinen, Miss. Laina  female  26.0      0   \n",
              "3       Futrelle, Mrs. Jacques Heath (Lily May Peel)  female  35.0      1   \n",
              "4                           Allen, Mr. William Henry    male  35.0      0   \n",
              "\n",
              "   Parch            Ticket     Fare Cabin Embarked  \n",
              "0      0         A/5 21171   7.2500   NaN        S  \n",
              "1      0          PC 17599  71.2833   C85        C  \n",
              "2      0  STON/O2. 3101282   7.9250   NaN        S  \n",
              "3      0            113803  53.1000  C123        S  \n",
              "4      0            373450   8.0500   NaN        S  "
            ]
          },
          "execution_count": 3,
          "metadata": {},
          "output_type": "execute_result"
        }
      ],
      "source": [
        "data.head()"
      ]
    },
    {
      "cell_type": "code",
      "execution_count": null,
      "id": "09881167-5830-45d5-9293-913c9f3d0816",
      "metadata": {
        "id": "09881167-5830-45d5-9293-913c9f3d0816",
        "outputId": "d760d73f-aec0-44a3-ad51-fb6e6d15aa53"
      },
      "outputs": [
        {
          "data": {
            "text/plain": [
              "(891, 12)"
            ]
          },
          "execution_count": 4,
          "metadata": {},
          "output_type": "execute_result"
        }
      ],
      "source": [
        "data.shape"
      ]
    },
    {
      "cell_type": "code",
      "execution_count": null,
      "id": "305cbc9c-b550-4224-8238-421d37ff8203",
      "metadata": {
        "id": "305cbc9c-b550-4224-8238-421d37ff8203",
        "outputId": "bd19f19f-e112-4be3-a0e3-571fcd8d9802"
      },
      "outputs": [
        {
          "data": {
            "text/plain": [
              "Sex\n",
              "male      577\n",
              "female    314\n",
              "Name: count, dtype: int64"
            ]
          },
          "execution_count": 5,
          "metadata": {},
          "output_type": "execute_result"
        }
      ],
      "source": [
        "data['Sex'].value_counts()"
      ]
    },
    {
      "cell_type": "markdown",
      "id": "4199d8ae-cea9-492f-b08f-e8c60e3f46bf",
      "metadata": {
        "id": "4199d8ae-cea9-492f-b08f-e8c60e3f46bf"
      },
      "source": [
        "### Data Visualization"
      ]
    },
    {
      "cell_type": "code",
      "execution_count": null,
      "id": "351a87b3-79b6-497e-9bfc-2a4d5083baf4",
      "metadata": {
        "id": "351a87b3-79b6-497e-9bfc-2a4d5083baf4",
        "outputId": "a061e325-76eb-416f-c516-63ccddaea112"
      },
      "outputs": [
        {
          "data": {
            "text/plain": [
              "<Axes: xlabel='Sex'>"
            ]
          },
          "execution_count": 6,
          "metadata": {},
          "output_type": "execute_result"
        },
        {
          "data": {
            "image/png": "[encoded data removed]",
            "text/plain": [
              "<Figure size 1000x500 with 1 Axes>"
            ]
          },
          "metadata": {},
          "output_type": "display_data"
        }
      ],
      "source": [
        "data['Died'] = 1 - data['Survived']\n",
        "data.groupby('Sex').agg('sum')[['Survived', 'Died']].plot(kind='bar',figsize=(10, 5),stacked=True)"
      ]
    },
    {
      "cell_type": "code",
      "execution_count": null,
      "id": "27ff8508-c9eb-4bf3-b6e1-c30dcd4c9527",
      "metadata": {
        "id": "27ff8508-c9eb-4bf3-b6e1-c30dcd4c9527",
        "outputId": "ca551a3c-6fcf-4b1c-c467-9fd84e440f3d"
      },
      "outputs": [
        {
          "data": {
            "text/plain": [
              "<matplotlib.legend.Legend at 0x1f4f3ca8850>"
            ]
          },
          "execution_count": 7,
          "metadata": {},
          "output_type": "execute_result"
        },
        {
          "data": {
            "image/png": "[encoded data removed]",
            "text/plain": [
              "<Figure size 1600x700 with 1 Axes>"
            ]
          },
          "metadata": {},
          "output_type": "display_data"
        }
      ],
      "source": [
        "figure = plt.figure(figsize=(16, 7))\n",
        "plt.hist([data[data['Survived'] == 1]['Fare'], data[data['Survived'] == 0]['Fare']],\n",
        "         stacked=True, bins = 50, label = ['Survived','Dead'])\n",
        "plt.xlabel('Fare')\n",
        "plt.ylabel('Number of passengers')\n",
        "plt.legend()"
      ]
    },
    {
      "cell_type": "markdown",
      "id": "f31a15db-c1dc-4f98-97d5-c99099b89251",
      "metadata": {
        "id": "f31a15db-c1dc-4f98-97d5-c99099b89251"
      },
      "source": [
        "### Removing irrelevant columns (removing these columns will not affect the output variable)"
      ]
    },
    {
      "cell_type": "code",
      "execution_count": null,
      "id": "4a23831b-41be-444a-bdcc-9f43b69231ef",
      "metadata": {
        "id": "4a23831b-41be-444a-bdcc-9f43b69231ef",
        "outputId": "608302f7-633f-4da4-d071-db0001c59d34"
      },
      "outputs": [
        {
          "data": {
            "text/html": [
              "<div>\n",
              "<style scoped>\n",
              "    .dataframe tbody tr th:only-of-type {\n",
              "        vertical-align: middle;\n",
              "    }\n",
              "\n",
              "    .dataframe tbody tr th {\n",
              "        vertical-align: top;\n",
              "    }\n",
              "\n",
              "    .dataframe thead th {\n",
              "        text-align: right;\n",
              "    }\n",
              "</style>\n",
              "<table border=\"1\" class=\"dataframe\">\n",
              "  <thead>\n",
              "    <tr style=\"text-align: right;\">\n",
              "      <th></th>\n",
              "      <th>Survived</th>\n",
              "      <th>Pclass</th>\n",
              "      <th>Sex</th>\n",
              "      <th>Age</th>\n",
              "      <th>SibSp</th>\n",
              "      <th>Parch</th>\n",
              "      <th>Fare</th>\n",
              "      <th>Embarked</th>\n",
              "    </tr>\n",
              "  </thead>\n",
              "  <tbody>\n",
              "    <tr>\n",
              "      <th>0</th>\n",
              "      <td>0</td>\n",
              "      <td>3</td>\n",
              "      <td>male</td>\n",
              "      <td>22.0</td>\n",
              "      <td>1</td>\n",
              "      <td>0</td>\n",
              "      <td>7.2500</td>\n",
              "      <td>S</td>\n",
              "    </tr>\n",
              "    <tr>\n",
              "      <th>1</th>\n",
              "      <td>1</td>\n",
              "      <td>1</td>\n",
              "      <td>female</td>\n",
              "      <td>38.0</td>\n",
              "      <td>1</td>\n",
              "      <td>0</td>\n",
              "      <td>71.2833</td>\n",
              "      <td>C</td>\n",
              "    </tr>\n",
              "    <tr>\n",
              "      <th>2</th>\n",
              "      <td>1</td>\n",
              "      <td>3</td>\n",
              "      <td>female</td>\n",
              "      <td>26.0</td>\n",
              "      <td>0</td>\n",
              "      <td>0</td>\n",
              "      <td>7.9250</td>\n",
              "      <td>S</td>\n",
              "    </tr>\n",
              "    <tr>\n",
              "      <th>3</th>\n",
              "      <td>1</td>\n",
              "      <td>1</td>\n",
              "      <td>female</td>\n",
              "      <td>35.0</td>\n",
              "      <td>1</td>\n",
              "      <td>0</td>\n",
              "      <td>53.1000</td>\n",
              "      <td>S</td>\n",
              "    </tr>\n",
              "    <tr>\n",
              "      <th>4</th>\n",
              "      <td>0</td>\n",
              "      <td>3</td>\n",
              "      <td>male</td>\n",
              "      <td>35.0</td>\n",
              "      <td>0</td>\n",
              "      <td>0</td>\n",
              "      <td>8.0500</td>\n",
              "      <td>S</td>\n",
              "    </tr>\n",
              "    <tr>\n",
              "      <th>5</th>\n",
              "      <td>0</td>\n",
              "      <td>3</td>\n",
              "      <td>male</td>\n",
              "      <td>NaN</td>\n",
              "      <td>0</td>\n",
              "      <td>0</td>\n",
              "      <td>8.4583</td>\n",
              "      <td>Q</td>\n",
              "    </tr>\n",
              "    <tr>\n",
              "      <th>6</th>\n",
              "      <td>0</td>\n",
              "      <td>1</td>\n",
              "      <td>male</td>\n",
              "      <td>54.0</td>\n",
              "      <td>0</td>\n",
              "      <td>0</td>\n",
              "      <td>51.8625</td>\n",
              "      <td>S</td>\n",
              "    </tr>\n",
              "    <tr>\n",
              "      <th>7</th>\n",
              "      <td>0</td>\n",
              "      <td>3</td>\n",
              "      <td>male</td>\n",
              "      <td>2.0</td>\n",
              "      <td>3</td>\n",
              "      <td>1</td>\n",
              "      <td>21.0750</td>\n",
              "      <td>S</td>\n",
              "    </tr>\n",
              "    <tr>\n",
              "      <th>8</th>\n",
              "      <td>1</td>\n",
              "      <td>3</td>\n",
              "      <td>female</td>\n",
              "      <td>27.0</td>\n",
              "      <td>0</td>\n",
              "      <td>2</td>\n",
              "      <td>11.1333</td>\n",
              "      <td>S</td>\n",
              "    </tr>\n",
              "    <tr>\n",
              "      <th>9</th>\n",
              "      <td>1</td>\n",
              "      <td>2</td>\n",
              "      <td>female</td>\n",
              "      <td>14.0</td>\n",
              "      <td>1</td>\n",
              "      <td>0</td>\n",
              "      <td>30.0708</td>\n",
              "      <td>C</td>\n",
              "    </tr>\n",
              "  </tbody>\n",
              "</table>\n",
              "</div>"
            ],
            "text/plain": [
              "   Survived  Pclass     Sex   Age  SibSp  Parch     Fare Embarked\n",
              "0         0       3    male  22.0      1      0   7.2500        S\n",
              "1         1       1  female  38.0      1      0  71.2833        C\n",
              "2         1       3  female  26.0      0      0   7.9250        S\n",
              "3         1       1  female  35.0      1      0  53.1000        S\n",
              "4         0       3    male  35.0      0      0   8.0500        S\n",
              "5         0       3    male   NaN      0      0   8.4583        Q\n",
              "6         0       1    male  54.0      0      0  51.8625        S\n",
              "7         0       3    male   2.0      3      1  21.0750        S\n",
              "8         1       3  female  27.0      0      2  11.1333        S\n",
              "9         1       2  female  14.0      1      0  30.0708        C"
            ]
          },
          "execution_count": 9,
          "metadata": {},
          "output_type": "execute_result"
        }
      ],
      "source": [
        "df1=data.drop(['Name','Ticket','Cabin','PassengerId','Died'], axis=1)\n",
        "df1.head(10)"
      ]
    },
    {
      "cell_type": "markdown",
      "id": "f4dc661a-ade3-4ac8-be18-9ba0c2af09e4",
      "metadata": {
        "id": "f4dc661a-ade3-4ac8-be18-9ba0c2af09e4"
      },
      "source": [
        "### Handling missing values - Filling missing attributes with the mean of those attributes"
      ]
    },
    {
      "cell_type": "code",
      "execution_count": null,
      "id": "97dfc827-3613-4a76-9167-ab0a9addd544",
      "metadata": {
        "id": "97dfc827-3613-4a76-9167-ab0a9addd544",
        "outputId": "3c5c0b90-bb01-445d-a3c1-a281ba86f662"
      },
      "outputs": [
        {
          "data": {
            "text/plain": [
              "Survived      0\n",
              "Pclass        0\n",
              "Sex           0\n",
              "Age         177\n",
              "SibSp         0\n",
              "Parch         0\n",
              "Fare          0\n",
              "Embarked      2\n",
              "dtype: int64"
            ]
          },
          "execution_count": 10,
          "metadata": {},
          "output_type": "execute_result"
        }
      ],
      "source": [
        "df1.isnull().sum()"
      ]
    },
    {
      "cell_type": "code",
      "execution_count": null,
      "id": "f9e839e3-aa99-4d79-9d63-3fe2d513e883",
      "metadata": {
        "id": "f9e839e3-aa99-4d79-9d63-3fe2d513e883"
      },
      "outputs": [],
      "source": [
        "mean_age_men=df1[df1['Sex']=='male']['Age'].mean()\n",
        "mean_age_women=df1[df1['Sex']=='female']['Age'].mean()"
      ]
    },
    {
      "cell_type": "code",
      "execution_count": null,
      "id": "e5e24b8a-3203-465e-8b6c-0209acc483a4",
      "metadata": {
        "id": "e5e24b8a-3203-465e-8b6c-0209acc483a4"
      },
      "outputs": [],
      "source": [
        "df1.loc[(df1.Age.isnull()) & (df1['Sex']=='female'),'Age']=mean_age_women\n",
        "df1.loc[(df1.Age.isnull()) & (df1['Sex']=='male'),'Age']=mean_age_men"
      ]
    },
    {
      "cell_type": "code",
      "execution_count": null,
      "id": "19e1e17b-ede5-4162-9ac0-84a639071633",
      "metadata": {
        "id": "19e1e17b-ede5-4162-9ac0-84a639071633",
        "outputId": "7d7dbcea-cf63-43e1-b571-cd6a672db991"
      },
      "outputs": [
        {
          "data": {
            "text/plain": [
              "Survived    0\n",
              "Pclass      0\n",
              "Sex         0\n",
              "Age         0\n",
              "SibSp       0\n",
              "Parch       0\n",
              "Fare        0\n",
              "Embarked    2\n",
              "dtype: int64"
            ]
          },
          "execution_count": 13,
          "metadata": {},
          "output_type": "execute_result"
        }
      ],
      "source": [
        "df1.isnull().sum()"
      ]
    },
    {
      "cell_type": "code",
      "execution_count": null,
      "id": "fdc0f7cf-7c17-4c56-a8d4-1be14846b595",
      "metadata": {
        "id": "fdc0f7cf-7c17-4c56-a8d4-1be14846b595"
      },
      "outputs": [],
      "source": [
        "#Since there exist 2 null values in the Embarked column, let's drop those rows containing null values\n",
        "df1.dropna(inplace=True)"
      ]
    },
    {
      "cell_type": "code",
      "execution_count": null,
      "id": "063a4489-65b4-45cf-9d08-2a47191e4d66",
      "metadata": {
        "id": "063a4489-65b4-45cf-9d08-2a47191e4d66",
        "outputId": "ed887596-1876-4377-8624-3224f0875377"
      },
      "outputs": [
        {
          "data": {
            "text/plain": [
              "Survived    0\n",
              "Pclass      0\n",
              "Sex         0\n",
              "Age         0\n",
              "SibSp       0\n",
              "Parch       0\n",
              "Fare        0\n",
              "Embarked    0\n",
              "dtype: int64"
            ]
          },
          "execution_count": 15,
          "metadata": {},
          "output_type": "execute_result"
        }
      ],
      "source": [
        "df1.isnull().sum()"
      ]
    },
    {
      "cell_type": "markdown",
      "id": "ce29292f-e0fd-434b-8a8e-6ccc277716d2",
      "metadata": {
        "id": "ce29292f-e0fd-434b-8a8e-6ccc277716d2"
      },
      "source": [
        "### Handling categorical values"
      ]
    },
    {
      "cell_type": "markdown",
      "id": "f10a0d5a-e502-420f-b93a-f66df26e7dcc",
      "metadata": {
        "id": "f10a0d5a-e502-420f-b93a-f66df26e7dcc"
      },
      "source": [
        "#### Label Encoding is a method used to convert categorical text data into numerical values so that machine learning algorithms can work with it. The below is the code for converting categorical data present in the dataset (sex and embarked) into numerical values by using using scikit learn library."
      ]
    },
    {
      "cell_type": "code",
      "execution_count": null,
      "id": "cfaf3143-b7ec-4857-9e78-508c29f89434",
      "metadata": {
        "id": "cfaf3143-b7ec-4857-9e78-508c29f89434"
      },
      "outputs": [],
      "source": [
        "from sklearn.preprocessing import LabelEncoder\n",
        "label_encoder = LabelEncoder()\n",
        "df1['Sex'] = label_encoder.fit_transform(df1['Sex'])\n",
        "df1['Embarked'] = label_encoder.fit_transform(df1['Embarked'])"
      ]
    },
    {
      "cell_type": "code",
      "execution_count": null,
      "id": "85cf9830-7432-41b6-acc8-e8d4079c3fdb",
      "metadata": {
        "id": "85cf9830-7432-41b6-acc8-e8d4079c3fdb",
        "outputId": "e5827cfa-3486-4549-93c7-34be7b2720ac"
      },
      "outputs": [
        {
          "data": {
            "text/html": [
              "<div>\n",
              "<style scoped>\n",
              "    .dataframe tbody tr th:only-of-type {\n",
              "        vertical-align: middle;\n",
              "    }\n",
              "\n",
              "    .dataframe tbody tr th {\n",
              "        vertical-align: top;\n",
              "    }\n",
              "\n",
              "    .dataframe thead th {\n",
              "        text-align: right;\n",
              "    }\n",
              "</style>\n",
              "<table border=\"1\" class=\"dataframe\">\n",
              "  <thead>\n",
              "    <tr style=\"text-align: right;\">\n",
              "      <th></th>\n",
              "      <th>Survived</th>\n",
              "      <th>Pclass</th>\n",
              "      <th>Sex</th>\n",
              "      <th>Age</th>\n",
              "      <th>SibSp</th>\n",
              "      <th>Parch</th>\n",
              "      <th>Fare</th>\n",
              "      <th>Embarked</th>\n",
              "    </tr>\n",
              "  </thead>\n",
              "  <tbody>\n",
              "    <tr>\n",
              "      <th>0</th>\n",
              "      <td>0</td>\n",
              "      <td>3</td>\n",
              "      <td>1</td>\n",
              "      <td>22.0</td>\n",
              "      <td>1</td>\n",
              "      <td>0</td>\n",
              "      <td>7.2500</td>\n",
              "      <td>2</td>\n",
              "    </tr>\n",
              "    <tr>\n",
              "      <th>1</th>\n",
              "      <td>1</td>\n",
              "      <td>1</td>\n",
              "      <td>0</td>\n",
              "      <td>38.0</td>\n",
              "      <td>1</td>\n",
              "      <td>0</td>\n",
              "      <td>71.2833</td>\n",
              "      <td>0</td>\n",
              "    </tr>\n",
              "    <tr>\n",
              "      <th>2</th>\n",
              "      <td>1</td>\n",
              "      <td>3</td>\n",
              "      <td>0</td>\n",
              "      <td>26.0</td>\n",
              "      <td>0</td>\n",
              "      <td>0</td>\n",
              "      <td>7.9250</td>\n",
              "      <td>2</td>\n",
              "    </tr>\n",
              "    <tr>\n",
              "      <th>3</th>\n",
              "      <td>1</td>\n",
              "      <td>1</td>\n",
              "      <td>0</td>\n",
              "      <td>35.0</td>\n",
              "      <td>1</td>\n",
              "      <td>0</td>\n",
              "      <td>53.1000</td>\n",
              "      <td>2</td>\n",
              "    </tr>\n",
              "    <tr>\n",
              "      <th>4</th>\n",
              "      <td>0</td>\n",
              "      <td>3</td>\n",
              "      <td>1</td>\n",
              "      <td>35.0</td>\n",
              "      <td>0</td>\n",
              "      <td>0</td>\n",
              "      <td>8.0500</td>\n",
              "      <td>2</td>\n",
              "    </tr>\n",
              "  </tbody>\n",
              "</table>\n",
              "</div>"
            ],
            "text/plain": [
              "   Survived  Pclass  Sex   Age  SibSp  Parch     Fare  Embarked\n",
              "0         0       3    1  22.0      1      0   7.2500         2\n",
              "1         1       1    0  38.0      1      0  71.2833         0\n",
              "2         1       3    0  26.0      0      0   7.9250         2\n",
              "3         1       1    0  35.0      1      0  53.1000         2\n",
              "4         0       3    1  35.0      0      0   8.0500         2"
            ]
          },
          "execution_count": 17,
          "metadata": {},
          "output_type": "execute_result"
        }
      ],
      "source": [
        "df1.head()"
      ]
    },
    {
      "cell_type": "markdown",
      "id": "ac626510-6584-4559-92b0-6b34df7e218c",
      "metadata": {
        "id": "ac626510-6584-4559-92b0-6b34df7e218c"
      },
      "source": [
        "## Handling Outliers"
      ]
    },
    {
      "cell_type": "markdown",
      "id": "ceb225ab-384d-4208-bc47-76d9749f7ea5",
      "metadata": {
        "id": "ceb225ab-384d-4208-bc47-76d9749f7ea5"
      },
      "source": [
        "#### Removing outliers is important for Accuracy, Model Performance, Enhanced Interpretability and Improved Data Quality."
      ]
    },
    {
      "cell_type": "markdown",
      "id": "56f21725-1893-413d-a97d-72e34b6be0fa",
      "metadata": {
        "id": "56f21725-1893-413d-a97d-72e34b6be0fa"
      },
      "source": [
        "#### Boxplot helps in identifying outliers"
      ]
    },
    {
      "cell_type": "code",
      "execution_count": null,
      "id": "544e1dda-8677-4c1b-a14a-d8097480b890",
      "metadata": {
        "id": "544e1dda-8677-4c1b-a14a-d8097480b890",
        "outputId": "b7f2a702-ae13-4da4-8788-09f55458241f"
      },
      "outputs": [
        {
          "data": {
            "image/png": "[encoded data removed]",
            "text/plain": [
              "<Figure size 1200x600 with 2 Axes>"
            ]
          },
          "metadata": {},
          "output_type": "display_data"
        }
      ],
      "source": [
        "# Set the size of the plots\n",
        "plt.figure(figsize=(12, 6))\n",
        "\n",
        "# Create a subplot with 1 row and 2 columns\n",
        "plt.subplot(1, 2, 1)\n",
        "sns.boxplot(data=df1, x='Age')\n",
        "plt.title('Box Plot of Age')\n",
        "\n",
        "plt.subplot(1, 2, 2)\n",
        "sns.boxplot(data=df1, x='Fare')\n",
        "plt.title('Box Plot of Fare')\n",
        "\n",
        "# Display the plots\n",
        "plt.tight_layout()\n",
        "plt.show()"
      ]
    },
    {
      "cell_type": "markdown",
      "id": "7b917e61-5085-40a4-81eb-9215a14db170",
      "metadata": {
        "id": "7b917e61-5085-40a4-81eb-9215a14db170"
      },
      "source": [
        "#### Outlier detection and removal can be done using two popular methods: the Z-score and the Interquartile Range (IQR) method.IQR method is used in the below code."
      ]
    },
    {
      "cell_type": "code",
      "execution_count": null,
      "id": "33d4876c-8ec1-4212-8fb3-28680eb05b71",
      "metadata": {
        "id": "33d4876c-8ec1-4212-8fb3-28680eb05b71",
        "outputId": "7cb6928f-215e-4246-9c1a-88ca30db85fe"
      },
      "outputs": [
        {
          "name": "stdout",
          "output_type": "stream",
          "text": [
            "Original dataset shape: (889, 8)\n",
            "Cleaned dataset shape: (718, 8)\n"
          ]
        }
      ],
      "source": [
        "# Define a function to remove outliers using IQR\n",
        "def remove_outliers(df1, column):\n",
        "    Q1 = df1[column].quantile(0.25)\n",
        "    Q3 = df1[column].quantile(0.75)\n",
        "    IQR = Q3 - Q1\n",
        "\n",
        "    # Define the bounds for outliers\n",
        "    lower_bound = Q1 - 1.5 * IQR\n",
        "    upper_bound = Q3 + 1.5 * IQR\n",
        "\n",
        "    # Remove outliers and return the cleaned dataframe\n",
        "    return df1[(df1[column] >= lower_bound) & (df1[column] <= upper_bound)]\n",
        "\n",
        "# Remove outliers in 'Age' and 'Fare' columns\n",
        "df1_cleaned = remove_outliers(df1, 'Age')\n",
        "df1_cleaned = remove_outliers(df1_cleaned, 'Fare')\n",
        "\n",
        "# Check how many rows remain after outlier removal\n",
        "print(f\"Original dataset shape: {df1.shape}\")\n",
        "print(f\"Cleaned dataset shape: {df1_cleaned.shape}\")"
      ]
    },
    {
      "cell_type": "markdown",
      "id": "9975918b-482e-4ee5-a9fe-21d81ca3033d",
      "metadata": {
        "id": "9975918b-482e-4ee5-a9fe-21d81ca3033d"
      },
      "source": [
        "### Scaling"
      ]
    },
    {
      "cell_type": "markdown",
      "id": "9a5ed982-f000-4081-b036-c88dbed6eaa0",
      "metadata": {
        "id": "9a5ed982-f000-4081-b036-c88dbed6eaa0"
      },
      "source": [
        "#### Different features in a dataset may have different units and scales (e.g., height in meters and weight in kilograms). Scaling standardizes these features, bringing them to a common scale so they can be compared directly.Scaling ensures that each feature contributes equally to the analysis.In algorithms that use optimization techniques, such as gradient descent, scaling can help in faster convergence."
      ]
    },
    {
      "cell_type": "markdown",
      "id": "f7d194f0-e6b9-4242-95fe-ddc2a3ad7366",
      "metadata": {
        "id": "f7d194f0-e6b9-4242-95fe-ddc2a3ad7366"
      },
      "source": [
        "#### Among several Scaling techniques NORMALIZATION is used here."
      ]
    },
    {
      "cell_type": "code",
      "execution_count": null,
      "id": "6c3b50c0-ec64-4b74-9d68-b06b219d873e",
      "metadata": {
        "id": "6c3b50c0-ec64-4b74-9d68-b06b219d873e",
        "outputId": "c18b0de1-c250-4910-cc34-f9a3aa3727be"
      },
      "outputs": [
        {
          "data": {
            "text/html": [
              "<div>\n",
              "<style scoped>\n",
              "    .dataframe tbody tr th:only-of-type {\n",
              "        vertical-align: middle;\n",
              "    }\n",
              "\n",
              "    .dataframe tbody tr th {\n",
              "        vertical-align: top;\n",
              "    }\n",
              "\n",
              "    .dataframe thead th {\n",
              "        text-align: right;\n",
              "    }\n",
              "</style>\n",
              "<table border=\"1\" class=\"dataframe\">\n",
              "  <thead>\n",
              "    <tr style=\"text-align: right;\">\n",
              "      <th></th>\n",
              "      <th>Survived</th>\n",
              "      <th>Pclass</th>\n",
              "      <th>Sex</th>\n",
              "      <th>Age</th>\n",
              "      <th>SibSp</th>\n",
              "      <th>Parch</th>\n",
              "      <th>Fare</th>\n",
              "      <th>Embarked</th>\n",
              "    </tr>\n",
              "  </thead>\n",
              "  <tbody>\n",
              "    <tr>\n",
              "      <th>count</th>\n",
              "      <td>718.000000</td>\n",
              "      <td>718.000000</td>\n",
              "      <td>718.000000</td>\n",
              "      <td>718.000000</td>\n",
              "      <td>718.000000</td>\n",
              "      <td>718.000000</td>\n",
              "      <td>718.000000</td>\n",
              "      <td>718.000000</td>\n",
              "    </tr>\n",
              "    <tr>\n",
              "      <th>mean</th>\n",
              "      <td>0.334262</td>\n",
              "      <td>2.512535</td>\n",
              "      <td>0.681058</td>\n",
              "      <td>0.500438</td>\n",
              "      <td>0.413649</td>\n",
              "      <td>0.317549</td>\n",
              "      <td>0.280114</td>\n",
              "      <td>1.611421</td>\n",
              "    </tr>\n",
              "    <tr>\n",
              "      <th>std</th>\n",
              "      <td>0.472061</td>\n",
              "      <td>0.715818</td>\n",
              "      <td>0.466391</td>\n",
              "      <td>0.197256</td>\n",
              "      <td>0.855001</td>\n",
              "      <td>0.784792</td>\n",
              "      <td>0.215782</td>\n",
              "      <td>0.726646</td>\n",
              "    </tr>\n",
              "    <tr>\n",
              "      <th>min</th>\n",
              "      <td>0.000000</td>\n",
              "      <td>1.000000</td>\n",
              "      <td>0.000000</td>\n",
              "      <td>0.000000</td>\n",
              "      <td>0.000000</td>\n",
              "      <td>0.000000</td>\n",
              "      <td>0.000000</td>\n",
              "      <td>0.000000</td>\n",
              "    </tr>\n",
              "    <tr>\n",
              "      <th>25%</th>\n",
              "      <td>0.000000</td>\n",
              "      <td>2.000000</td>\n",
              "      <td>0.000000</td>\n",
              "      <td>0.372549</td>\n",
              "      <td>0.000000</td>\n",
              "      <td>0.000000</td>\n",
              "      <td>0.128538</td>\n",
              "      <td>2.000000</td>\n",
              "    </tr>\n",
              "    <tr>\n",
              "      <th>50%</th>\n",
              "      <td>0.000000</td>\n",
              "      <td>3.000000</td>\n",
              "      <td>1.000000</td>\n",
              "      <td>0.509804</td>\n",
              "      <td>0.000000</td>\n",
              "      <td>0.000000</td>\n",
              "      <td>0.191433</td>\n",
              "      <td>2.000000</td>\n",
              "    </tr>\n",
              "    <tr>\n",
              "      <th>75%</th>\n",
              "      <td>1.000000</td>\n",
              "      <td>3.000000</td>\n",
              "      <td>1.000000</td>\n",
              "      <td>0.585784</td>\n",
              "      <td>1.000000</td>\n",
              "      <td>0.000000</td>\n",
              "      <td>0.422426</td>\n",
              "      <td>2.000000</td>\n",
              "    </tr>\n",
              "    <tr>\n",
              "      <th>max</th>\n",
              "      <td>1.000000</td>\n",
              "      <td>3.000000</td>\n",
              "      <td>1.000000</td>\n",
              "      <td>1.000000</td>\n",
              "      <td>5.000000</td>\n",
              "      <td>6.000000</td>\n",
              "      <td>1.000000</td>\n",
              "      <td>2.000000</td>\n",
              "    </tr>\n",
              "  </tbody>\n",
              "</table>\n",
              "</div>"
            ],
            "text/plain": [
              "         Survived      Pclass         Sex         Age       SibSp       Parch  \\\n",
              "count  718.000000  718.000000  718.000000  718.000000  718.000000  718.000000   \n",
              "mean     0.334262    2.512535    0.681058    0.500438    0.413649    0.317549   \n",
              "std      0.472061    0.715818    0.466391    0.197256    0.855001    0.784792   \n",
              "min      0.000000    1.000000    0.000000    0.000000    0.000000    0.000000   \n",
              "25%      0.000000    2.000000    0.000000    0.372549    0.000000    0.000000   \n",
              "50%      0.000000    3.000000    1.000000    0.509804    0.000000    0.000000   \n",
              "75%      1.000000    3.000000    1.000000    0.585784    1.000000    0.000000   \n",
              "max      1.000000    3.000000    1.000000    1.000000    5.000000    6.000000   \n",
              "\n",
              "             Fare    Embarked  \n",
              "count  718.000000  718.000000  \n",
              "mean     0.280114    1.611421  \n",
              "std      0.215782    0.726646  \n",
              "min      0.000000    0.000000  \n",
              "25%      0.128538    2.000000  \n",
              "50%      0.191433    2.000000  \n",
              "75%      0.422426    2.000000  \n",
              "max      1.000000    2.000000  "
            ]
          },
          "execution_count": 21,
          "metadata": {},
          "output_type": "execute_result"
        }
      ],
      "source": [
        "df1_cleaned.Age = (df1_cleaned.Age-min(df1_cleaned.Age))/(max(df1_cleaned.Age)-min(df1_cleaned.Age))\n",
        "df1_cleaned.Fare = (df1_cleaned.Fare-min(df1_cleaned.Fare))/(max(df1_cleaned.Fare)-min(df1_cleaned.Fare))\n",
        "df1_cleaned.describe()"
      ]
    },
    {
      "cell_type": "markdown",
      "id": "4cf0beb9-a9eb-4276-a5c6-449a52e153c6",
      "metadata": {
        "id": "4cf0beb9-a9eb-4276-a5c6-449a52e153c6"
      },
      "source": [
        "### After performing all these steps, now the dataset is clean, well-prepared and ready for training models."
      ]
    }
  ],
  "metadata": {
    "kernelspec": {
      "display_name": "Python 3 (ipykernel)",
      "language": "python",
      "name": "python3"
    },
    "language_info": {
      "codemirror_mode": {
        "name": "ipython",
        "version": 3
      },
      "file_extension": ".py",
      "mimetype": "text/x-python",
      "name": "python",
      "nbconvert_exporter": "python",
      "pygments_lexer": "ipython3",
      "version": "3.11.7"
    },
    "colab": {
      "provenance": [],
      "include_colab_link": true
    }
  },
  "nbformat": 4,
  "nbformat_minor": 5
}